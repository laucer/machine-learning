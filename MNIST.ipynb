{
  "nbformat": 4,
  "nbformat_minor": 0,
  "metadata": {
    "colab": {
      "name": "MNIST.ipynb",
      "provenance": [],
      "collapsed_sections": [],
      "authorship_tag": "ABX9TyM2BsQAdYGCOHfABp2Lp63e",
      "include_colab_link": true
    },
    "kernelspec": {
      "name": "python3",
      "display_name": "Python 3"
    }
  },
  "cells": [
    {
      "cell_type": "markdown",
      "metadata": {
        "id": "view-in-github",
        "colab_type": "text"
      },
      "source": [
        "<a href=\"https://colab.research.google.com/github/laucer/machine-learning/blob/master/MNIST.ipynb\" target=\"_parent\"><img src=\"https://colab.research.google.com/assets/colab-badge.svg\" alt=\"Open In Colab\"/></a>"
      ]
    },
    {
      "cell_type": "markdown",
      "metadata": {
        "id": "py6QNmAPZJOq",
        "colab_type": "text"
      },
      "source": [
        "# Multilayer Perceptron - MNIST"
      ]
    },
    {
      "cell_type": "code",
      "metadata": {
        "id": "m9hFQMmyZDbQ",
        "colab_type": "code",
        "outputId": "2b6f7435-9058-401e-fa17-b84e51b8e639",
        "colab": {
          "base_uri": "https://localhost:8080/",
          "height": 34
        }
      },
      "source": [
        "import keras\n",
        "from keras.datasets import mnist\n",
        "from keras.models import Sequential\n",
        "from keras.layers import Dense\n",
        "from keras.optimizers import RMSprop\n",
        "\n"
      ],
      "execution_count": 3,
      "outputs": [
        {
          "output_type": "stream",
          "text": [
            "Using TensorFlow backend.\n"
          ],
          "name": "stderr"
        }
      ]
    },
    {
      "cell_type": "markdown",
      "metadata": {
        "id": "2AjJdldJagqe",
        "colab_type": "text"
      },
      "source": [
        "## Download dataset"
      ]
    },
    {
      "cell_type": "code",
      "metadata": {
        "id": "75OklvBhaQbx",
        "colab_type": "code",
        "colab": {
          "base_uri": "https://localhost:8080/",
          "height": 52
        },
        "outputId": "194a190d-05f5-4dfc-86e9-dc467822a493"
      },
      "source": [
        "(X_train, y_train), (X_test, y_test) = mnist.load_data()\n"
      ],
      "execution_count": 4,
      "outputs": [
        {
          "output_type": "stream",
          "text": [
            "Downloading data from https://s3.amazonaws.com/img-datasets/mnist.npz\n",
            "11493376/11490434 [==============================] - 1s 0us/step\n"
          ],
          "name": "stdout"
        }
      ]
    },
    {
      "cell_type": "markdown",
      "metadata": {
        "id": "Ll8vd8c-aqTp",
        "colab_type": "text"
      },
      "source": [
        "\n",
        "## Let's see example images from train dataset\n"
      ]
    },
    {
      "cell_type": "code",
      "metadata": {
        "id": "a4ngQmZqaqpC",
        "colab_type": "code",
        "outputId": "b897a464-3e6b-47e9-c110-ef746cacf751",
        "colab": {
          "base_uri": "https://localhost:8080/",
          "height": 77
        }
      },
      "source": [
        "import matplotlib.pyplot as plt\n",
        "\n",
        "plt.figure(figsize=(10, 10))\n",
        "for i in range(1, 11):\n",
        "  plt.subplot(1, 10, i)  \n",
        "  plt.axis('off')\n",
        "  plt.imshow(X_train[i], cmap='Greys')\n"
      ],
      "execution_count": 5,
      "outputs": [
        {
          "output_type": "display_data",
          "data": {
            "image/png": "[encoded data removed]",
            "text/plain": [
              "<Figure size 720x720 with 10 Axes>"
            ]
          },
          "metadata": {
            "tags": [],
            "needs_background": "light"
          }
        }
      ]
    },
    {
      "cell_type": "markdown",
      "metadata": {
        "id": "z0sKqr7Bbb5E",
        "colab_type": "text"
      },
      "source": [
        "## Prepare data\n",
        "1. Image is represented by a single vector\n",
        "2. Cast to $float32$\n",
        "3. Standarize data\n",
        "4. $y$ is represented by a vector of size 10 filled with zeroes and one.\n",
        "Example: $[0,1,0,0,0,0,0,0,0,0]$ represents digit 1."
      ]
    },
    {
      "cell_type": "code",
      "metadata": {
        "id": "d3h-azcPbcKH",
        "colab_type": "code",
        "colab": {}
      },
      "source": [
        "X_train = X_train.reshape(60000, 28 * 28)\n",
        "X_test = X_test.reshape(10000, 28*28)\n",
        "\n",
        "X_train = X_train.astype('float32')\n",
        "X_test = X_test.astype('float32')\n",
        "\n",
        "X_train = X_train/255\n",
        "X_test = X_test/255\n",
        "\n",
        "y_train = keras.utils.to_categorical(y_train, 10)\n",
        "y_test = keras.utils.to_categorical(y_test, 10)\n"
      ],
      "execution_count": 0,
      "outputs": []
    },
    {
      "cell_type": "markdown",
      "metadata": {
        "id": "JED-05rHvBof",
        "colab_type": "text"
      },
      "source": [
        "## Build a model"
      ]
    },
    {
      "cell_type": "code",
      "metadata": {
        "id": "uJVdzvKivB0c",
        "colab_type": "code",
        "outputId": "d4b41046-7292-4dcf-d278-f5e09e274c72",
        "colab": {
          "base_uri": "https://localhost:8080/",
          "height": 265
        }
      },
      "source": [
        "model = Sequential()\n",
        "model.add(Dense(units=512, activation='relu', input_shape=(28*28,)))\n",
        "model.add(Dense(units=512, activation='relu'))\n",
        "model.add(Dense(units=10, activation='softmax'))\n",
        "\n",
        "model.summary()"
      ],
      "execution_count": 7,
      "outputs": [
        {
          "output_type": "stream",
          "text": [
            "Model: \"sequential_1\"\n",
            "_________________________________________________________________\n",
            "Layer (type)                 Output Shape              Param #   \n",
            "=================================================================\n",
            "dense_1 (Dense)              (None, 512)               401920    \n",
            "_________________________________________________________________\n",
            "dense_2 (Dense)              (None, 512)               262656    \n",
            "_________________________________________________________________\n",
            "dense_3 (Dense)              (None, 10)                5130      \n",
            "=================================================================\n",
            "Total params: 669,706\n",
            "Trainable params: 669,706\n",
            "Non-trainable params: 0\n",
            "_________________________________________________________________\n"
          ],
          "name": "stdout"
        }
      ]
    },
    {
      "cell_type": "markdown",
      "metadata": {
        "id": "XkaSHOFSx7rF",
        "colab_type": "text"
      },
      "source": [
        "## Train the model"
      ]
    },
    {
      "cell_type": "code",
      "metadata": {
        "id": "vG_upp4Yx7wZ",
        "colab_type": "code",
        "outputId": "e55164b8-8dd5-4d8e-a499-727a13390350",
        "colab": {
          "base_uri": "https://localhost:8080/",
          "height": 1000
        }
      },
      "source": [
        "model.compile(optimizer=RMSprop(), loss='categorical_crossentropy', metrics=['accuracy'])\n",
        "model.fit(X_train, y_train, batch_size=128, epochs=32, validation_data=(X_test,y_test))\n"
      ],
      "execution_count": 8,
      "outputs": [
        {
          "output_type": "stream",
          "text": [
            "Train on 60000 samples, validate on 10000 samples\n",
            "Epoch 1/32\n",
            "60000/60000 [==============================] - 6s 105us/step - loss: 0.2177 - accuracy: 0.9333 - val_loss: 0.1079 - val_accuracy: 0.9671\n",
            "Epoch 2/32\n",
            "60000/60000 [==============================] - 6s 100us/step - loss: 0.0824 - accuracy: 0.9755 - val_loss: 0.0817 - val_accuracy: 0.9756\n",
            "Epoch 3/32\n",
            "60000/60000 [==============================] - 6s 100us/step - loss: 0.0550 - accuracy: 0.9836 - val_loss: 0.0879 - val_accuracy: 0.9762\n",
            "Epoch 4/32\n",
            "60000/60000 [==============================] - 6s 101us/step - loss: 0.0389 - accuracy: 0.9876 - val_loss: 0.0797 - val_accuracy: 0.9797\n",
            "Epoch 5/32\n",
            "60000/60000 [==============================] - 6s 100us/step - loss: 0.0296 - accuracy: 0.9913 - val_loss: 0.0798 - val_accuracy: 0.9807\n",
            "Epoch 6/32\n",
            "60000/60000 [==============================] - 6s 100us/step - loss: 0.0243 - accuracy: 0.9923 - val_loss: 0.0824 - val_accuracy: 0.9814\n",
            "Epoch 7/32\n",
            "60000/60000 [==============================] - 6s 100us/step - loss: 0.0188 - accuracy: 0.9942 - val_loss: 0.0884 - val_accuracy: 0.9814\n",
            "Epoch 8/32\n",
            "60000/60000 [==============================] - 6s 98us/step - loss: 0.0155 - accuracy: 0.9953 - val_loss: 0.0999 - val_accuracy: 0.9804\n",
            "Epoch 9/32\n",
            "60000/60000 [==============================] - 6s 99us/step - loss: 0.0142 - accuracy: 0.9956 - val_loss: 0.0924 - val_accuracy: 0.9826\n",
            "Epoch 10/32\n",
            "60000/60000 [==============================] - 6s 99us/step - loss: 0.0117 - accuracy: 0.9966 - val_loss: 0.0997 - val_accuracy: 0.9833\n",
            "Epoch 11/32\n",
            "60000/60000 [==============================] - 6s 99us/step - loss: 0.0094 - accuracy: 0.9973 - val_loss: 0.1244 - val_accuracy: 0.9814\n",
            "Epoch 12/32\n",
            "60000/60000 [==============================] - 6s 100us/step - loss: 0.0105 - accuracy: 0.9970 - val_loss: 0.1217 - val_accuracy: 0.9822\n",
            "Epoch 13/32\n",
            "60000/60000 [==============================] - 6s 100us/step - loss: 0.0075 - accuracy: 0.9979 - val_loss: 0.1441 - val_accuracy: 0.9826\n",
            "Epoch 14/32\n",
            "60000/60000 [==============================] - 6s 101us/step - loss: 0.0081 - accuracy: 0.9978 - val_loss: 0.1213 - val_accuracy: 0.9824\n",
            "Epoch 15/32\n",
            "60000/60000 [==============================] - 6s 101us/step - loss: 0.0066 - accuracy: 0.9982 - val_loss: 0.1602 - val_accuracy: 0.9783\n",
            "Epoch 16/32\n",
            "60000/60000 [==============================] - 6s 100us/step - loss: 0.0066 - accuracy: 0.9981 - val_loss: 0.1329 - val_accuracy: 0.9838\n",
            "Epoch 17/32\n",
            "60000/60000 [==============================] - 6s 104us/step - loss: 0.0072 - accuracy: 0.9984 - val_loss: 0.1460 - val_accuracy: 0.9828\n",
            "Epoch 18/32\n",
            "60000/60000 [==============================] - 6s 100us/step - loss: 0.0063 - accuracy: 0.9985 - val_loss: 0.1875 - val_accuracy: 0.9798\n",
            "Epoch 19/32\n",
            "60000/60000 [==============================] - 6s 100us/step - loss: 0.0058 - accuracy: 0.9986 - val_loss: 0.1611 - val_accuracy: 0.9826\n",
            "Epoch 20/32\n",
            "60000/60000 [==============================] - 6s 101us/step - loss: 0.0064 - accuracy: 0.9983 - val_loss: 0.1799 - val_accuracy: 0.9812\n",
            "Epoch 21/32\n",
            "60000/60000 [==============================] - 6s 100us/step - loss: 0.0055 - accuracy: 0.9987 - val_loss: 0.1979 - val_accuracy: 0.9803\n",
            "Epoch 22/32\n",
            "60000/60000 [==============================] - 6s 101us/step - loss: 0.0052 - accuracy: 0.9987 - val_loss: 0.1895 - val_accuracy: 0.9804\n",
            "Epoch 23/32\n",
            "60000/60000 [==============================] - 6s 100us/step - loss: 0.0058 - accuracy: 0.9987 - val_loss: 0.1890 - val_accuracy: 0.9824\n",
            "Epoch 24/32\n",
            "60000/60000 [==============================] - 6s 101us/step - loss: 0.0036 - accuracy: 0.9990 - val_loss: 0.1906 - val_accuracy: 0.9821\n",
            "Epoch 25/32\n",
            "60000/60000 [==============================] - 6s 100us/step - loss: 0.0041 - accuracy: 0.9989 - val_loss: 0.1724 - val_accuracy: 0.9831\n",
            "Epoch 26/32\n",
            "60000/60000 [==============================] - 6s 103us/step - loss: 0.0037 - accuracy: 0.9991 - val_loss: 0.1901 - val_accuracy: 0.9817\n",
            "Epoch 27/32\n",
            "60000/60000 [==============================] - 6s 104us/step - loss: 0.0039 - accuracy: 0.9992 - val_loss: 0.1987 - val_accuracy: 0.9836\n",
            "Epoch 28/32\n",
            "60000/60000 [==============================] - 6s 101us/step - loss: 0.0042 - accuracy: 0.9990 - val_loss: 0.2135 - val_accuracy: 0.9809\n",
            "Epoch 29/32\n",
            "60000/60000 [==============================] - 6s 101us/step - loss: 0.0042 - accuracy: 0.9991 - val_loss: 0.2284 - val_accuracy: 0.9805\n",
            "Epoch 30/32\n",
            "60000/60000 [==============================] - 6s 101us/step - loss: 0.0022 - accuracy: 0.9994 - val_loss: 0.2375 - val_accuracy: 0.9827\n",
            "Epoch 31/32\n",
            "60000/60000 [==============================] - 6s 100us/step - loss: 0.0035 - accuracy: 0.9991 - val_loss: 0.2050 - val_accuracy: 0.9826\n",
            "Epoch 32/32\n",
            "60000/60000 [==============================] - 6s 100us/step - loss: 0.0026 - accuracy: 0.9994 - val_loss: 0.2147 - val_accuracy: 0.9829\n"
          ],
          "name": "stdout"
        },
        {
          "output_type": "execute_result",
          "data": {
            "text/plain": [
              "<keras.callbacks.callbacks.History at 0x7fc563b95908>"
            ]
          },
          "metadata": {
            "tags": []
          },
          "execution_count": 8
        }
      ]
    }
  ]
}